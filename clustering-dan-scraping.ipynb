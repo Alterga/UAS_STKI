{
 "cells": [
  {
   "cell_type": "code",
   "execution_count": 1,
   "metadata": {
    "_cell_guid": "b1076dfc-b9ad-4769-8c92-a6c4dae69d19",
    "_uuid": "8f2839f25d086af736a60e9eeb907d3b93b6e0e5",
    "execution": {
     "iopub.execute_input": "2020-12-14T13:32:15.664790Z",
     "iopub.status.busy": "2020-12-14T13:32:15.664143Z",
     "iopub.status.idle": "2020-12-14T13:32:15.667583Z",
     "shell.execute_reply": "2020-12-14T13:32:15.668227Z"
    },
    "papermill": {
     "duration": 0.018889,
     "end_time": "2020-12-14T13:32:15.668390",
     "exception": false,
     "start_time": "2020-12-14T13:32:15.649501",
     "status": "completed"
    },
    "tags": []
   },
   "outputs": [],
   "source": [
    "# nama anggota kelompok :\n",
    "# Alterga agus p (17.01.53.0036)\n",
    "# Bagus kurniawan adhi (17.01.53.0018)\n",
    "# Ilham rizqi f (17.01.53.0002)"
   ]
  },
  {
   "cell_type": "code",
   "execution_count": 2,
   "metadata": {
    "execution": {
     "iopub.execute_input": "2020-12-14T13:32:15.690122Z",
     "iopub.status.busy": "2020-12-14T13:32:15.689501Z",
     "iopub.status.idle": "2020-12-14T13:32:26.662073Z",
     "shell.execute_reply": "2020-12-14T13:32:26.661089Z"
    },
    "papermill": {
     "duration": 10.984348,
     "end_time": "2020-12-14T13:32:26.662263",
     "exception": false,
     "start_time": "2020-12-14T13:32:15.677915",
     "status": "completed"
    },
    "tags": []
   },
   "outputs": [
    {
     "name": "stdout",
     "output_type": "stream",
     "text": [
      "Collecting bs4\r\n",
      "  Downloading bs4-0.0.1.tar.gz (1.1 kB)\r\n",
      "Requirement already satisfied: beautifulsoup4 in /opt/conda/lib/python3.7/site-packages (from bs4) (4.9.0)\r\n",
      "Requirement already satisfied: soupsieve>1.2 in /opt/conda/lib/python3.7/site-packages (from beautifulsoup4->bs4) (1.9.4)\r\n",
      "Building wheels for collected packages: bs4\r\n",
      "  Building wheel for bs4 (setup.py) ... \u001b[?25l-\b \b\\\b \bdone\r\n",
      "\u001b[?25h  Created wheel for bs4: filename=bs4-0.0.1-py3-none-any.whl size=1272 sha256=5893db55702e27160fce6861d08e612e4732603f169f7968e85b7620b5b933bb\r\n",
      "  Stored in directory: /root/.cache/pip/wheels/0a/9e/ba/20e5bbc1afef3a491f0b3bb74d508f99403aabe76eda2167ca\r\n",
      "Successfully built bs4\r\n",
      "Installing collected packages: bs4\r\n",
      "Successfully installed bs4-0.0.1\r\n",
      "Note: you may need to restart the kernel to use updated packages.\n"
     ]
    }
   ],
   "source": [
    "pip install bs4"
   ]
  },
  {
   "cell_type": "code",
   "execution_count": 3,
   "metadata": {
    "_cell_guid": "79c7e3d0-c299-4dcb-8224-4455121ee9b0",
    "_uuid": "d629ff2d2480ee46fbb7e2d37f6b5fab8052498a",
    "execution": {
     "iopub.execute_input": "2020-12-14T13:32:26.692375Z",
     "iopub.status.busy": "2020-12-14T13:32:26.691481Z",
     "iopub.status.idle": "2020-12-14T13:32:32.955624Z",
     "shell.execute_reply": "2020-12-14T13:32:32.956094Z"
    },
    "papermill": {
     "duration": 6.281537,
     "end_time": "2020-12-14T13:32:32.956258",
     "exception": false,
     "start_time": "2020-12-14T13:32:26.674721",
     "status": "completed"
    },
    "tags": []
   },
   "outputs": [
    {
     "name": "stdout",
     "output_type": "stream",
     "text": [
      "Requirement already satisfied: wordcloud in /opt/conda/lib/python3.7/site-packages (1.8.1)\r\n",
      "Requirement already satisfied: matplotlib in /opt/conda/lib/python3.7/site-packages (from wordcloud) (3.2.1)\r\n",
      "Requirement already satisfied: numpy>=1.6.1 in /opt/conda/lib/python3.7/site-packages (from wordcloud) (1.18.5)\r\n",
      "Requirement already satisfied: pillow in /opt/conda/lib/python3.7/site-packages (from wordcloud) (8.0.1)\r\n",
      "Requirement already satisfied: kiwisolver>=1.0.1 in /opt/conda/lib/python3.7/site-packages (from matplotlib->wordcloud) (1.2.0)\r\n",
      "Requirement already satisfied: pyparsing!=2.0.4,!=2.1.2,!=2.1.6,>=2.0.1 in /opt/conda/lib/python3.7/site-packages (from matplotlib->wordcloud) (2.4.7)\r\n",
      "Requirement already satisfied: python-dateutil>=2.1 in /opt/conda/lib/python3.7/site-packages (from matplotlib->wordcloud) (2.8.1)\r\n",
      "Requirement already satisfied: cycler>=0.10 in /opt/conda/lib/python3.7/site-packages (from matplotlib->wordcloud) (0.10.0)\r\n",
      "Requirement already satisfied: numpy>=1.6.1 in /opt/conda/lib/python3.7/site-packages (from wordcloud) (1.18.5)\r\n",
      "Requirement already satisfied: six in /opt/conda/lib/python3.7/site-packages (from cycler>=0.10->matplotlib->wordcloud) (1.14.0)\r\n",
      "Requirement already satisfied: six in /opt/conda/lib/python3.7/site-packages (from cycler>=0.10->matplotlib->wordcloud) (1.14.0)\r\n",
      "Note: you may need to restart the kernel to use updated packages.\n"
     ]
    }
   ],
   "source": [
    "pip install wordcloud"
   ]
  },
  {
   "cell_type": "code",
   "execution_count": 4,
   "metadata": {
    "execution": {
     "iopub.execute_input": "2020-12-14T13:32:32.993046Z",
     "iopub.status.busy": "2020-12-14T13:32:32.992198Z",
     "iopub.status.idle": "2020-12-14T13:32:39.100206Z",
     "shell.execute_reply": "2020-12-14T13:32:39.100902Z"
    },
    "papermill": {
     "duration": 6.131784,
     "end_time": "2020-12-14T13:32:39.101103",
     "exception": false,
     "start_time": "2020-12-14T13:32:32.969319",
     "status": "completed"
    },
    "tags": []
   },
   "outputs": [
    {
     "name": "stdout",
     "output_type": "stream",
     "text": [
      "Requirement already satisfied: seaborn in /opt/conda/lib/python3.7/site-packages (0.10.0)\r\n",
      "Requirement already satisfied: numpy>=1.13.3 in /opt/conda/lib/python3.7/site-packages (from seaborn) (1.18.5)\r\n",
      "Requirement already satisfied: pandas>=0.22.0 in /opt/conda/lib/python3.7/site-packages (from seaborn) (1.1.5)\r\n",
      "Requirement already satisfied: matplotlib>=2.1.2 in /opt/conda/lib/python3.7/site-packages (from seaborn) (3.2.1)\r\n",
      "Requirement already satisfied: scipy>=1.0.1 in /opt/conda/lib/python3.7/site-packages (from seaborn) (1.4.1)\r\n",
      "Requirement already satisfied: numpy>=1.13.3 in /opt/conda/lib/python3.7/site-packages (from seaborn) (1.18.5)\r\n",
      "Requirement already satisfied: cycler>=0.10 in /opt/conda/lib/python3.7/site-packages (from matplotlib>=2.1.2->seaborn) (0.10.0)\r\n",
      "Requirement already satisfied: python-dateutil>=2.1 in /opt/conda/lib/python3.7/site-packages (from matplotlib>=2.1.2->seaborn) (2.8.1)\r\n",
      "Requirement already satisfied: pyparsing!=2.0.4,!=2.1.2,!=2.1.6,>=2.0.1 in /opt/conda/lib/python3.7/site-packages (from matplotlib>=2.1.2->seaborn) (2.4.7)\r\n",
      "Requirement already satisfied: kiwisolver>=1.0.1 in /opt/conda/lib/python3.7/site-packages (from matplotlib>=2.1.2->seaborn) (1.2.0)\r\n",
      "Requirement already satisfied: six in /opt/conda/lib/python3.7/site-packages (from cycler>=0.10->matplotlib>=2.1.2->seaborn) (1.14.0)\r\n",
      "Requirement already satisfied: python-dateutil>=2.1 in /opt/conda/lib/python3.7/site-packages (from matplotlib>=2.1.2->seaborn) (2.8.1)\r\n",
      "Requirement already satisfied: numpy>=1.13.3 in /opt/conda/lib/python3.7/site-packages (from seaborn) (1.18.5)\r\n",
      "Requirement already satisfied: pytz>=2017.2 in /opt/conda/lib/python3.7/site-packages (from pandas>=0.22.0->seaborn) (2019.3)\r\n",
      "Requirement already satisfied: six in /opt/conda/lib/python3.7/site-packages (from cycler>=0.10->matplotlib>=2.1.2->seaborn) (1.14.0)\r\n",
      "Requirement already satisfied: numpy>=1.13.3 in /opt/conda/lib/python3.7/site-packages (from seaborn) (1.18.5)\r\n",
      "Note: you may need to restart the kernel to use updated packages.\n"
     ]
    }
   ],
   "source": [
    "pip install seaborn"
   ]
  },
  {
   "cell_type": "code",
   "execution_count": 5,
   "metadata": {
    "execution": {
     "iopub.execute_input": "2020-12-14T13:32:39.144981Z",
     "iopub.status.busy": "2020-12-14T13:32:39.144045Z",
     "iopub.status.idle": "2020-12-14T13:32:40.957026Z",
     "shell.execute_reply": "2020-12-14T13:32:40.956425Z"
    },
    "papermill": {
     "duration": 1.838558,
     "end_time": "2020-12-14T13:32:40.957147",
     "exception": false,
     "start_time": "2020-12-14T13:32:39.118589",
     "status": "completed"
    },
    "tags": []
   },
   "outputs": [],
   "source": [
    "import requests\n",
    "import numpy as np\n",
    "import pandas as pd\n",
    "import matplotlib.pyplot as plt\n",
    "import seaborn as sns\n",
    "import matplotlib.pyplot as plt\n",
    "from bs4 import BeautifulSoup\n",
    "from sklearn.cluster import KMeans\n",
    "%matplotlib inline"
   ]
  },
  {
   "cell_type": "code",
   "execution_count": 6,
   "metadata": {
    "execution": {
     "iopub.execute_input": "2020-12-14T13:32:40.996716Z",
     "iopub.status.busy": "2020-12-14T13:32:40.994420Z",
     "iopub.status.idle": "2020-12-14T13:34:32.280318Z",
     "shell.execute_reply": "2020-12-14T13:34:32.281169Z"
    },
    "papermill": {
     "duration": 111.311079,
     "end_time": "2020-12-14T13:34:32.281402",
     "exception": false,
     "start_time": "2020-12-14T13:32:40.970323",
     "status": "completed"
    },
    "tags": []
   },
   "outputs": [
    {
     "name": "stdout",
     "output_type": "stream",
     "text": [
      "[[2107, 8.5, 'Silenced (2011)', 'Sep 22, 2011'], [2108, 7.8, 'Kisaragi (2007)', 'Jun 16, 2007'], [2109, 6.0, 'Akai Tsuki (2004)', 'Feb  7, 2004'], [2110, 5.9, 'Yakuza Weapon (2011)', '-'], [2111, 7.4, 'Karaoke Terror (2003)', 'Nov 15, 2003'], [2112, 6.5, 'Goku Dou High School (2006)', 'Aired: Sep 18, 2006 - Nov  7, 2006'], [2113, 7.3, 'Kurohyo Ryu ga Gotoku Shinsho (2010)', 'Aired: Oct  5, 2010 - Dec 21, 2010'], [2114, 7.8, 'Kou Kou Kyoushi (1993)', 'Aired: Jan  8, 1993 - Mar 19, 1993'], [2115, 7.4, 'Absolute Boyfriend (2012)', 'Aired: Apr 14, 2012 - Jul  7, 2012'], [2116, 6.7, 'Bus Stop (2000)', 'Aired: Jul  1, 2000 - Sep 30, 2000'], [2117, 6.2, 'Come, Closer (2010)', 'Oct 28, 2010'], [2118, 7.5, 'Hitomi (2008)', 'Aired: Mar 31, 2008 - Sep 27, 2008'], [2119, 8.2, 'Stewardess Monogatari (1983)', 'Aired: Oct 18, 1983 - Mar 27, 1984'], [2120, 7.6, 'Aoi Tori (1997)', 'Aired: Oct 10, 1997 - Dec 19, 1997'], [2121, 6.8, 'Love Story (2001)', 'Aired: Apr 15, 2001 - Jun 24, 2001'], [2122, 7.0, 'Rules of Love (2005)', 'Aired: Jul 27, 2005 - Sep 15, 2005'], [2123, 7.0, 'Second Proposal (2004)', 'Aired: Sep  8, 2004 - Nov 18, 2004'], [2124, 7.9, 'Tengoku no Kiss (1999)', 'Aired: Jul 12, 1999 - Sep 13, 1999'], [2125, 6.6, 'To Heart (1999)', 'Aired: Jul  2, 1999 - Sep 17, 1999'], [2126, 7.7, 'Mop Girl (2007)', 'Aired: Oct 12, 2007 - Dec 14, 2007'], [2127, 5.3, 'Deborah is My Rival (1997)', 'Aug  8, 1997'], [2128, 6.5, 'Ugly Miss Young Ae Season 8 (2010)', 'Aired: Dec 17, 2010 - Apr 29, 2011'], [2129, 7.8, 'Little Mom Scandal (2008)', 'Aired: Jun 14, 2008 - Jul  5, 2008'], [2130, 6.6, 'Here He Comes (2008)', 'Aired: Oct  6, 2008 - Feb 27, 2009'], [2131, 6.5, 'Papa (1996)', 'Aired: Jan  3, 1996 - Feb 29, 1996'], [2132, 0.0, 'Mama and Papa (2010)', 'May 20, 2010'], [2133, 6.9, 'Hitonatsu no Papa e (2003)', 'Aired: Jul  2, 2003 - Sep  3, 2003'], [2134, 6.9, \"Don't Tell Papa (2004)\", 'Sep  3, 2004'], [2135, 6.7, 'Papa wa Newscaster (1987)', 'Aired: Jan  9, 1987 - Mar 27, 1987'], [2136, 7.0, 'Run Papa Run (2008)', 'Apr 10, 2008'], [2137, 8.0, \"Dad's Backdrop (2004)\", 'Oct  9, 2004'], [2138, 6.5, 'Mama wa Mukashi Papa datta (2009)', 'Aired: Aug 23, 2009 - Sep 27, 2009'], [2139, 6.8, 'Papa to Nat-chan (1991)', 'Aired: Apr 19, 1991 - Jun 21, 1991'], [2140, 7.5, 'Kyuka (2008)', 'Jun  7, 2008'], [2141, 7.0, 'Aburakusasu no Matsuri (2010)', 'Dec 25, 2010'], [2142, 6.9, 'Scrap Heaven (2005)', 'Oct  8, 2005'], [2143, 6.3, 'Genya (2010)', 'Aired: Nov 21, 2010 - Jan 16, 2011'], [2144, 6.2, 'Gachi Boy (2008)', 'Mar  1, 2008'], [2145, 6.5, 'Kaidan (2007)', 'Aug  4, 2007'], [2146, 6.4, 'Heaven Can Wait. Maybe... (2007)', 'Feb 10, 2007'], [2147, 6.4, 'Doing Time (2002)', 'Dec  7, 2002'], [2148, 8.6, 'Goodbye My Smile (2011)', 'Mar 26, 2011'], [2149, 7.8, 'A Chinese Fairy Tale (2011)', 'Apr 22, 2011'], [2150, 0.0, 'Sadness in Beauty (2010)', 'Apr  1, 2010'], [2151, 7.7, 'Mr. Wacky (2006)', 'May 25, 2006'], [2152, 7.6, 'Love Fiction (2012)', 'Feb 29, 2012'], [2153, 6.2, 'Godfather in Pink (2003)', 'Aired: Jun 15, 2003 - Sep  7, 2003'], [2154, 6.9, 'First Love (2006)', 'Jun 10, 2006'], [2155, 6.6, 'Rise Up (2009)', 'Nov 21, 2009'], [2156, 6.4, 'Listen to My Heart (2009)', 'Oct 10, 2009'], [2157, 7.8, 'Romance (2006)', 'Mar 16, 2006'], [2158, 5.8, 'Cooking up Romance (2008)', 'Aired: Jun  2, 2008 - Oct 30, 2008'], [2159, 7.7, 'Rules of Dating (2005)', 'Jun 10, 2005'], [2160, 6.5, 'Thirteen Steps (2003)', 'Feb  8, 2003'], [2161, 7.5, 'Who Slept with Her (2006)', 'Nov 16, 2006'], [2162, 6.3, 'Love Strategy (2008)', 'Aired: Oct 21, 2008 - Nov 15, 2008'], [2163, 6.7, 'Deru Toko Demasho! (2007)', 'Aired: Sep 22, 2007'], [2164, 7.3, 'Tokyo Wankei (2004)', 'Aired: Jul  5, 2004 - Sep 13, 2004'], [2165, 7.8, \"Can't Buy Me Love (2010)\", 'Aired: Aug 23, 2010 - Oct  2, 2010'], [2166, 8.2, 'Haru to Natsu (2005)', 'Aired: Oct  2, 2005 - Oct  6, 2005'], [2167, 7.0, 'Like Shooting Stars in the Twilight: Galaxy C-46 (2011)', 'Aired: Feb 20, 2011'], [2168, 7.0, 'Hasami (2012)', 'Jan 14, 2012'], [2169, 7.3, 'Silver Rain (2009)', 'Nov 28, 2009'], [2170, 8.0, 'Maho Shojo o Wasurenai (2011)', 'Mar 19, 2011'], [2171, 4.0, 'Kamifusen (2011)', 'Mar 26, 2011'], [2172, 3.0, 'Synchronicity (2011)', 'Feb  5, 2011'], [2173, 6.0, 'The Last Love Song on This Little Planet (2006)', 'Jan 28, 2006'], [2174, 7.1, 'Wasao (2011)', 'Mar  5, 2011'], [2175, 6.6, 'A Man With Style (2011)', 'Jun 18, 2011'], [2176, 6.6, 'Fourteen (2007)', 'May 19, 2007'], [2177, 10.0, 'Dotei Horoki (2009)', 'Aug  8, 2009'], [2178, 6.8, 'Pole Dancing Boys (2011)', 'May 28, 2011'], [2179, 6.1, 'Dragon Head (2003)', 'Aug 30, 2003'], [2180, 6.0, 'Argentine Hag (2007)', 'Mar 24, 2007'], [2181, 7.0, 'If You Were Me 5 (2011)', 'Apr 28, 2011'], [2182, 7.1, 'I Loved (2007)', 'Jun  9, 2007'], [2183, 7.5, 'La Maison de Himiko (2005)', 'Aug 27, 2005'], [2184, 7.8, 'DOG x POLICE: The K-9 Force (2011)', 'Oct  1, 2011'], [2185, 0.0, 'Characters (2011)', 'Nov 17, 2011'], [2186, 7.8, 'Green Forest, My Home (2005)', 'Aired: Oct 23, 2005 - Feb  5, 2006'], [2187, 0.0, 'Merry-san no Denwa (2011)', 'Feb 12, 2011'], [2188, 7.9, 'Oshin (1983)', 'Aired: Apr  4, 1983 - Mar 31, 1984'], [2189, 7.8, 'A Better Tomorrow (2010)', 'Sep 16, 2010'], [2190, 6.5, 'King Qian of Wuyue (2007)', '-'], [2191, 7.7, 'Yoga Hakwon (2009)', 'Aug 20, 2009'], [2192, 7.8, 'Real School (2011)', 'Aired: Jan 10, 2011 - Mar  4, 2011'], [2193, 7.8, 'The Thieves (2012)', 'Jul 25, 2012'], [2194, 7.0, 'Strangers 6 (2012)', 'Aired: Jan 27, 2012 - May  4, 2012'], [2195, 7.8, 'The King and I (2007)', 'Aired: Aug 27, 2007 - Apr  1, 2008'], [2196, 8.0, 'Warrior Baek Dong Soo (2011)', 'Aired: Jul  4, 2011 - Oct 10, 2011'], [2197, 7.3, 'Miss Ajumma (2011)', 'Aired: May 30, 2011 - Oct 21, 2011'], [2198, 7.8, 'My MVP Valentine (2002)', 'Aired: Jul 24, 2002 - Aug 30, 2002'], [2199, 0.0, 'The requested page was not found', '-'], [2200, 7.8, 'Play (2011)', 'Jun 23, 2011'], [2201, 7.9, 'The Front Line (2011)', 'Jul 20, 2011'], [2202, 8.0, \"God's Quiz Season 2 (2011)\", 'Aired: Jun 10, 2011 - Aug 26, 2011'], [2203, 7.0, 'A Reason To Live (2011)', 'Oct 27, 2011'], [2204, 8.2, 'As One (2012)', 'May  3, 2012'], [2205, 7.8, 'Hana yori Dango 2 (Returns) Bangai hen: Makinoke Hajimete no Kazoku Ryoko in N.Y. (2007)', '-'], [2206, 6.3, 'A Confession (2010)', 'Aug 20, 2010'], [2207, 6.4, 'Asu no Hikari wo Tsukame (2010)', 'Aired: Jul  5, 2010 - Sep  3, 2010']]\n"
     ]
    }
   ],
   "source": [
    "mulai = 2107\n",
    "end = 2207\n",
    "array = []\n",
    "\n",
    "for mulai in range(int(mulai), int(end)+1):\n",
    "    page = requests.get(\"https://mydramalist.com/\" + str(mulai))\n",
    "    #print(page)\n",
    "\n",
    "    ## ambil html\n",
    "    html = page.content\n",
    "    #print(html)\n",
    "\n",
    "    ## ambil fungsi beautifulsoup\n",
    "    scraping = BeautifulSoup(html, 'html.parser')\n",
    "    #print(scraping)\n",
    "\n",
    "    ## parse judul drama\n",
    "    title = scraping.find('title')\n",
    "\n",
    "    if title is None:\n",
    "        title = \"-\"\n",
    "    else:\n",
    "        title = title.text.replace(\" - MyDramaList\", \"\").strip()\n",
    "\n",
    "    #print(title)\n",
    "\n",
    "    ## parse deskripsi drama\n",
    "    release_date = scraping.find(\"li\", attrs={\"xitemprop\":\"datePublished\"})\n",
    "\n",
    "    if release_date is None:\n",
    "        release_date = \"-\"\n",
    "    else:\n",
    "        release_date = release_date.text.replace(\"Release Date: \", \"\").strip()\n",
    "\n",
    "    #print(release_date)\n",
    "\n",
    "    ## parse rating drama\n",
    "    rating = scraping.find('b', attrs={\"itempropx\":\"ratingValue\"})\n",
    "\n",
    "    if rating is None:\n",
    "        rating = \"0\"\n",
    "    else:\n",
    "        rating = rating.text.strip()\n",
    "\n",
    "    #print(rating)\n",
    "    \n",
    "    array.append([int(mulai), float(rating), str(title), str(release_date)])\n",
    "\n",
    "print(array)"
   ]
  },
  {
   "cell_type": "code",
   "execution_count": 7,
   "metadata": {
    "execution": {
     "iopub.execute_input": "2020-12-14T13:34:32.312803Z",
     "iopub.status.busy": "2020-12-14T13:34:32.312190Z",
     "iopub.status.idle": "2020-12-14T13:34:32.340670Z",
     "shell.execute_reply": "2020-12-14T13:34:32.340025Z"
    },
    "papermill": {
     "duration": 0.045194,
     "end_time": "2020-12-14T13:34:32.340786",
     "exception": false,
     "start_time": "2020-12-14T13:34:32.295592",
     "status": "completed"
    },
    "tags": []
   },
   "outputs": [
    {
     "name": "stdout",
     "output_type": "stream",
     "text": [
      "     drama_id  drama_rating  \\\n",
      "0        2107           8.5   \n",
      "1        2108           7.8   \n",
      "2        2109           6.0   \n",
      "3        2110           5.9   \n",
      "4        2111           7.4   \n",
      "..        ...           ...   \n",
      "96       2203           7.0   \n",
      "97       2204           8.2   \n",
      "98       2205           7.8   \n",
      "99       2206           6.3   \n",
      "100      2207           6.4   \n",
      "\n",
      "                                           drama_title  \\\n",
      "0                                      Silenced (2011)   \n",
      "1                                      Kisaragi (2007)   \n",
      "2                                    Akai Tsuki (2004)   \n",
      "3                                 Yakuza Weapon (2011)   \n",
      "4                                Karaoke Terror (2003)   \n",
      "..                                                 ...   \n",
      "96                             A Reason To Live (2011)   \n",
      "97                                       As One (2012)   \n",
      "98   Hana yori Dango 2 (Returns) Bangai hen: Makino...   \n",
      "99                                 A Confession (2010)   \n",
      "100                    Asu no Hikari wo Tsukame (2010)   \n",
      "\n",
      "                     drama_release_date  \n",
      "0                          Sep 22, 2011  \n",
      "1                          Jun 16, 2007  \n",
      "2                          Feb  7, 2004  \n",
      "3                                     -  \n",
      "4                          Nov 15, 2003  \n",
      "..                                  ...  \n",
      "96                         Oct 27, 2011  \n",
      "97                         May  3, 2012  \n",
      "98                                    -  \n",
      "99                         Aug 20, 2010  \n",
      "100  Aired: Jul  5, 2010 - Sep  3, 2010  \n",
      "\n",
      "[101 rows x 4 columns]\n"
     ]
    }
   ],
   "source": [
    "# menampilkan datatype\n",
    "drama_data_list = pd.DataFrame(array, columns=['drama_id', 'drama_rating', 'drama_title', 'drama_release_date'])\n",
    "print(drama_data_list)"
   ]
  },
  {
   "cell_type": "code",
   "execution_count": 8,
   "metadata": {
    "execution": {
     "iopub.execute_input": "2020-12-14T13:34:32.380983Z",
     "iopub.status.busy": "2020-12-14T13:34:32.380158Z",
     "iopub.status.idle": "2020-12-14T13:34:32.394301Z",
     "shell.execute_reply": "2020-12-14T13:34:32.393606Z"
    },
    "papermill": {
     "duration": 0.039731,
     "end_time": "2020-12-14T13:34:32.394412",
     "exception": false,
     "start_time": "2020-12-14T13:34:32.354681",
     "status": "completed"
    },
    "tags": []
   },
   "outputs": [
    {
     "data": {
      "text/html": [
       "<div>\n",
       "<style scoped>\n",
       "    .dataframe tbody tr th:only-of-type {\n",
       "        vertical-align: middle;\n",
       "    }\n",
       "\n",
       "    .dataframe tbody tr th {\n",
       "        vertical-align: top;\n",
       "    }\n",
       "\n",
       "    .dataframe thead th {\n",
       "        text-align: right;\n",
       "    }\n",
       "</style>\n",
       "<table border=\"1\" class=\"dataframe\">\n",
       "  <thead>\n",
       "    <tr style=\"text-align: right;\">\n",
       "      <th></th>\n",
       "      <th>drama_id</th>\n",
       "      <th>drama_rating</th>\n",
       "      <th>drama_title</th>\n",
       "      <th>drama_release_date</th>\n",
       "    </tr>\n",
       "  </thead>\n",
       "  <tbody>\n",
       "    <tr>\n",
       "      <th>0</th>\n",
       "      <td>2107</td>\n",
       "      <td>8.5</td>\n",
       "      <td>Silenced (2011)</td>\n",
       "      <td>Sep 22, 2011</td>\n",
       "    </tr>\n",
       "    <tr>\n",
       "      <th>1</th>\n",
       "      <td>2108</td>\n",
       "      <td>7.8</td>\n",
       "      <td>Kisaragi (2007)</td>\n",
       "      <td>Jun 16, 2007</td>\n",
       "    </tr>\n",
       "    <tr>\n",
       "      <th>2</th>\n",
       "      <td>2109</td>\n",
       "      <td>6.0</td>\n",
       "      <td>Akai Tsuki (2004)</td>\n",
       "      <td>Feb  7, 2004</td>\n",
       "    </tr>\n",
       "    <tr>\n",
       "      <th>3</th>\n",
       "      <td>2110</td>\n",
       "      <td>5.9</td>\n",
       "      <td>Yakuza Weapon (2011)</td>\n",
       "      <td>-</td>\n",
       "    </tr>\n",
       "    <tr>\n",
       "      <th>4</th>\n",
       "      <td>2111</td>\n",
       "      <td>7.4</td>\n",
       "      <td>Karaoke Terror (2003)</td>\n",
       "      <td>Nov 15, 2003</td>\n",
       "    </tr>\n",
       "    <tr>\n",
       "      <th>...</th>\n",
       "      <td>...</td>\n",
       "      <td>...</td>\n",
       "      <td>...</td>\n",
       "      <td>...</td>\n",
       "    </tr>\n",
       "    <tr>\n",
       "      <th>96</th>\n",
       "      <td>2203</td>\n",
       "      <td>7.0</td>\n",
       "      <td>A Reason To Live (2011)</td>\n",
       "      <td>Oct 27, 2011</td>\n",
       "    </tr>\n",
       "    <tr>\n",
       "      <th>97</th>\n",
       "      <td>2204</td>\n",
       "      <td>8.2</td>\n",
       "      <td>As One (2012)</td>\n",
       "      <td>May  3, 2012</td>\n",
       "    </tr>\n",
       "    <tr>\n",
       "      <th>98</th>\n",
       "      <td>2205</td>\n",
       "      <td>7.8</td>\n",
       "      <td>Hana yori Dango 2 (Returns) Bangai hen: Makino...</td>\n",
       "      <td>-</td>\n",
       "    </tr>\n",
       "    <tr>\n",
       "      <th>99</th>\n",
       "      <td>2206</td>\n",
       "      <td>6.3</td>\n",
       "      <td>A Confession (2010)</td>\n",
       "      <td>Aug 20, 2010</td>\n",
       "    </tr>\n",
       "    <tr>\n",
       "      <th>100</th>\n",
       "      <td>2207</td>\n",
       "      <td>6.4</td>\n",
       "      <td>Asu no Hikari wo Tsukame (2010)</td>\n",
       "      <td>Aired: Jul  5, 2010 - Sep  3, 2010</td>\n",
       "    </tr>\n",
       "  </tbody>\n",
       "</table>\n",
       "<p>101 rows × 4 columns</p>\n",
       "</div>"
      ],
      "text/plain": [
       "     drama_id  drama_rating  \\\n",
       "0        2107           8.5   \n",
       "1        2108           7.8   \n",
       "2        2109           6.0   \n",
       "3        2110           5.9   \n",
       "4        2111           7.4   \n",
       "..        ...           ...   \n",
       "96       2203           7.0   \n",
       "97       2204           8.2   \n",
       "98       2205           7.8   \n",
       "99       2206           6.3   \n",
       "100      2207           6.4   \n",
       "\n",
       "                                           drama_title  \\\n",
       "0                                      Silenced (2011)   \n",
       "1                                      Kisaragi (2007)   \n",
       "2                                    Akai Tsuki (2004)   \n",
       "3                                 Yakuza Weapon (2011)   \n",
       "4                                Karaoke Terror (2003)   \n",
       "..                                                 ...   \n",
       "96                             A Reason To Live (2011)   \n",
       "97                                       As One (2012)   \n",
       "98   Hana yori Dango 2 (Returns) Bangai hen: Makino...   \n",
       "99                                 A Confession (2010)   \n",
       "100                    Asu no Hikari wo Tsukame (2010)   \n",
       "\n",
       "                     drama_release_date  \n",
       "0                          Sep 22, 2011  \n",
       "1                          Jun 16, 2007  \n",
       "2                          Feb  7, 2004  \n",
       "3                                     -  \n",
       "4                          Nov 15, 2003  \n",
       "..                                  ...  \n",
       "96                         Oct 27, 2011  \n",
       "97                         May  3, 2012  \n",
       "98                                    -  \n",
       "99                         Aug 20, 2010  \n",
       "100  Aired: Jul  5, 2010 - Sep  3, 2010  \n",
       "\n",
       "[101 rows x 4 columns]"
      ]
     },
     "execution_count": 8,
     "metadata": {},
     "output_type": "execute_result"
    }
   ],
   "source": [
    "# menampilkan label informasi \n",
    "data = pd.DataFrame(drama_data_list)\n",
    "data"
   ]
  },
  {
   "cell_type": "code",
   "execution_count": 9,
   "metadata": {
    "execution": {
     "iopub.execute_input": "2020-12-14T13:34:32.437541Z",
     "iopub.status.busy": "2020-12-14T13:34:32.430827Z",
     "iopub.status.idle": "2020-12-14T13:34:32.442021Z",
     "shell.execute_reply": "2020-12-14T13:34:32.442514Z"
    },
    "papermill": {
     "duration": 0.033221,
     "end_time": "2020-12-14T13:34:32.442659",
     "exception": false,
     "start_time": "2020-12-14T13:34:32.409438",
     "status": "completed"
    },
    "tags": []
   },
   "outputs": [
    {
     "data": {
      "text/html": [
       "<div>\n",
       "<style scoped>\n",
       "    .dataframe tbody tr th:only-of-type {\n",
       "        vertical-align: middle;\n",
       "    }\n",
       "\n",
       "    .dataframe tbody tr th {\n",
       "        vertical-align: top;\n",
       "    }\n",
       "\n",
       "    .dataframe thead th {\n",
       "        text-align: right;\n",
       "    }\n",
       "</style>\n",
       "<table border=\"1\" class=\"dataframe\">\n",
       "  <thead>\n",
       "    <tr style=\"text-align: right;\">\n",
       "      <th></th>\n",
       "      <th>drama_id</th>\n",
       "      <th>drama_rating</th>\n",
       "    </tr>\n",
       "  </thead>\n",
       "  <tbody>\n",
       "    <tr>\n",
       "      <th>0</th>\n",
       "      <td>2107</td>\n",
       "      <td>8.5</td>\n",
       "    </tr>\n",
       "    <tr>\n",
       "      <th>1</th>\n",
       "      <td>2108</td>\n",
       "      <td>7.8</td>\n",
       "    </tr>\n",
       "    <tr>\n",
       "      <th>2</th>\n",
       "      <td>2109</td>\n",
       "      <td>6.0</td>\n",
       "    </tr>\n",
       "    <tr>\n",
       "      <th>3</th>\n",
       "      <td>2110</td>\n",
       "      <td>5.9</td>\n",
       "    </tr>\n",
       "    <tr>\n",
       "      <th>4</th>\n",
       "      <td>2111</td>\n",
       "      <td>7.4</td>\n",
       "    </tr>\n",
       "  </tbody>\n",
       "</table>\n",
       "</div>"
      ],
      "text/plain": [
       "   drama_id  drama_rating\n",
       "0      2107           8.5\n",
       "1      2108           7.8\n",
       "2      2109           6.0\n",
       "3      2110           5.9\n",
       "4      2111           7.4"
      ]
     },
     "execution_count": 9,
     "metadata": {},
     "output_type": "execute_result"
    }
   ],
   "source": [
    "# menampilkan label id dan penilaian\n",
    "data = data.drop(['drama_title', 'drama_release_date'], axis = 1)\n",
    "data.head()"
   ]
  },
  {
   "cell_type": "code",
   "execution_count": 10,
   "metadata": {
    "execution": {
     "iopub.execute_input": "2020-12-14T13:34:32.482821Z",
     "iopub.status.busy": "2020-12-14T13:34:32.481959Z",
     "iopub.status.idle": "2020-12-14T13:34:32.486360Z",
     "shell.execute_reply": "2020-12-14T13:34:32.486833Z"
    },
    "papermill": {
     "duration": 0.029357,
     "end_time": "2020-12-14T13:34:32.486994",
     "exception": false,
     "start_time": "2020-12-14T13:34:32.457637",
     "status": "completed"
    },
    "tags": []
   },
   "outputs": [
    {
     "data": {
      "text/html": [
       "<div>\n",
       "<style scoped>\n",
       "    .dataframe tbody tr th:only-of-type {\n",
       "        vertical-align: middle;\n",
       "    }\n",
       "\n",
       "    .dataframe tbody tr th {\n",
       "        vertical-align: top;\n",
       "    }\n",
       "\n",
       "    .dataframe thead th {\n",
       "        text-align: right;\n",
       "    }\n",
       "</style>\n",
       "<table border=\"1\" class=\"dataframe\">\n",
       "  <thead>\n",
       "    <tr style=\"text-align: right;\">\n",
       "      <th></th>\n",
       "      <th>drama_id</th>\n",
       "      <th>drama_rating</th>\n",
       "    </tr>\n",
       "  </thead>\n",
       "  <tbody>\n",
       "    <tr>\n",
       "      <th>0</th>\n",
       "      <td>2107</td>\n",
       "      <td>8.5</td>\n",
       "    </tr>\n",
       "    <tr>\n",
       "      <th>1</th>\n",
       "      <td>2108</td>\n",
       "      <td>7.8</td>\n",
       "    </tr>\n",
       "    <tr>\n",
       "      <th>2</th>\n",
       "      <td>2109</td>\n",
       "      <td>6.0</td>\n",
       "    </tr>\n",
       "    <tr>\n",
       "      <th>3</th>\n",
       "      <td>2110</td>\n",
       "      <td>5.9</td>\n",
       "    </tr>\n",
       "    <tr>\n",
       "      <th>4</th>\n",
       "      <td>2111</td>\n",
       "      <td>7.4</td>\n",
       "    </tr>\n",
       "  </tbody>\n",
       "</table>\n",
       "</div>"
      ],
      "text/plain": [
       "   drama_id  drama_rating\n",
       "0      2107           8.5\n",
       "1      2108           7.8\n",
       "2      2109           6.0\n",
       "3      2110           5.9\n",
       "4      2111           7.4"
      ]
     },
     "execution_count": 10,
     "metadata": {},
     "output_type": "execute_result"
    }
   ],
   "source": [
    "data_x = data.iloc[:, 0:2]\n",
    "data_x.head()"
   ]
  },
  {
   "cell_type": "code",
   "execution_count": 11,
   "metadata": {
    "execution": {
     "iopub.execute_input": "2020-12-14T13:34:32.528694Z",
     "iopub.status.busy": "2020-12-14T13:34:32.527996Z",
     "iopub.status.idle": "2020-12-14T13:34:32.782258Z",
     "shell.execute_reply": "2020-12-14T13:34:32.781613Z"
    },
    "papermill": {
     "duration": 0.279853,
     "end_time": "2020-12-14T13:34:32.782384",
     "exception": false,
     "start_time": "2020-12-14T13:34:32.502531",
     "status": "completed"
    },
    "tags": []
   },
   "outputs": [
    {
     "data": {
      "text/plain": [
       "<matplotlib.axes._subplots.AxesSubplot at 0x7f8325a61890>"
      ]
     },
     "execution_count": 11,
     "metadata": {},
     "output_type": "execute_result"
    },
    {
     "data": {
      "image/png": "[encoded data removed]",
      "text/plain": [
       "<Figure size 432x288 with 1 Axes>"
      ]
     },
     "metadata": {
      "needs_background": "light"
     },
     "output_type": "display_data"
    }
   ],
   "source": [
    "sns.scatterplot(x=\"drama_id\", y=\"drama_rating\", data=data, s=50, color=\"red\", alpha = 0.5)"
   ]
  },
  {
   "cell_type": "code",
   "execution_count": 12,
   "metadata": {
    "execution": {
     "iopub.execute_input": "2020-12-14T13:34:32.822978Z",
     "iopub.status.busy": "2020-12-14T13:34:32.822235Z",
     "iopub.status.idle": "2020-12-14T13:34:32.829295Z",
     "shell.execute_reply": "2020-12-14T13:34:32.830067Z"
    },
    "papermill": {
     "duration": 0.031445,
     "end_time": "2020-12-14T13:34:32.830296",
     "exception": false,
     "start_time": "2020-12-14T13:34:32.798851",
     "status": "completed"
    },
    "tags": []
   },
   "outputs": [
    {
     "name": "stdout",
     "output_type": "stream",
     "text": [
      "[[2107.     8.5]\n",
      " [2108.     7.8]\n",
      " [2109.     6. ]\n",
      " [2110.     5.9]\n",
      " [2111.     7.4]\n",
      " [2112.     6.5]\n",
      " [2113.     7.3]\n",
      " [2114.     7.8]\n",
      " [2115.     7.4]\n",
      " [2116.     6.7]\n",
      " [2117.     6.2]\n",
      " [2118.     7.5]\n",
      " [2119.     8.2]\n",
      " [2120.     7.6]\n",
      " [2121.     6.8]\n",
      " [2122.     7. ]\n",
      " [2123.     7. ]\n",
      " [2124.     7.9]\n",
      " [2125.     6.6]\n",
      " [2126.     7.7]\n",
      " [2127.     5.3]\n",
      " [2128.     6.5]\n",
      " [2129.     7.8]\n",
      " [2130.     6.6]\n",
      " [2131.     6.5]\n",
      " [2132.     0. ]\n",
      " [2133.     6.9]\n",
      " [2134.     6.9]\n",
      " [2135.     6.7]\n",
      " [2136.     7. ]\n",
      " [2137.     8. ]\n",
      " [2138.     6.5]\n",
      " [2139.     6.8]\n",
      " [2140.     7.5]\n",
      " [2141.     7. ]\n",
      " [2142.     6.9]\n",
      " [2143.     6.3]\n",
      " [2144.     6.2]\n",
      " [2145.     6.5]\n",
      " [2146.     6.4]\n",
      " [2147.     6.4]\n",
      " [2148.     8.6]\n",
      " [2149.     7.8]\n",
      " [2150.     0. ]\n",
      " [2151.     7.7]\n",
      " [2152.     7.6]\n",
      " [2153.     6.2]\n",
      " [2154.     6.9]\n",
      " [2155.     6.6]\n",
      " [2156.     6.4]\n",
      " [2157.     7.8]\n",
      " [2158.     5.8]\n",
      " [2159.     7.7]\n",
      " [2160.     6.5]\n",
      " [2161.     7.5]\n",
      " [2162.     6.3]\n",
      " [2163.     6.7]\n",
      " [2164.     7.3]\n",
      " [2165.     7.8]\n",
      " [2166.     8.2]\n",
      " [2167.     7. ]\n",
      " [2168.     7. ]\n",
      " [2169.     7.3]\n",
      " [2170.     8. ]\n",
      " [2171.     4. ]\n",
      " [2172.     3. ]\n",
      " [2173.     6. ]\n",
      " [2174.     7.1]\n",
      " [2175.     6.6]\n",
      " [2176.     6.6]\n",
      " [2177.    10. ]\n",
      " [2178.     6.8]\n",
      " [2179.     6.1]\n",
      " [2180.     6. ]\n",
      " [2181.     7. ]\n",
      " [2182.     7.1]\n",
      " [2183.     7.5]\n",
      " [2184.     7.8]\n",
      " [2185.     0. ]\n",
      " [2186.     7.8]\n",
      " [2187.     0. ]\n",
      " [2188.     7.9]\n",
      " [2189.     7.8]\n",
      " [2190.     6.5]\n",
      " [2191.     7.7]\n",
      " [2192.     7.8]\n",
      " [2193.     7.8]\n",
      " [2194.     7. ]\n",
      " [2195.     7.8]\n",
      " [2196.     8. ]\n",
      " [2197.     7.3]\n",
      " [2198.     7.8]\n",
      " [2199.     0. ]\n",
      " [2200.     7.8]\n",
      " [2201.     7.9]\n",
      " [2202.     8. ]\n",
      " [2203.     7. ]\n",
      " [2204.     8.2]\n",
      " [2205.     7.8]\n",
      " [2206.     6.3]\n",
      " [2207.     6.4]]\n"
     ]
    }
   ],
   "source": [
    "x_array = np.array(data_x)\n",
    "print(x_array)"
   ]
  },
  {
   "cell_type": "code",
   "execution_count": 13,
   "metadata": {
    "execution": {
     "iopub.execute_input": "2020-12-14T13:34:32.881074Z",
     "iopub.status.busy": "2020-12-14T13:34:32.880419Z",
     "iopub.status.idle": "2020-12-14T13:34:32.887208Z",
     "shell.execute_reply": "2020-12-14T13:34:32.886650Z"
    },
    "papermill": {
     "duration": 0.031488,
     "end_time": "2020-12-14T13:34:32.887317",
     "exception": false,
     "start_time": "2020-12-14T13:34:32.855829",
     "status": "completed"
    },
    "tags": []
   },
   "outputs": [
    {
     "data": {
      "text/plain": [
       "array([[0.  , 0.85],\n",
       "       [0.01, 0.78],\n",
       "       [0.02, 0.6 ],\n",
       "       [0.03, 0.59],\n",
       "       [0.04, 0.74],\n",
       "       [0.05, 0.65],\n",
       "       [0.06, 0.73],\n",
       "       [0.07, 0.78],\n",
       "       [0.08, 0.74],\n",
       "       [0.09, 0.67],\n",
       "       [0.1 , 0.62],\n",
       "       [0.11, 0.75],\n",
       "       [0.12, 0.82],\n",
       "       [0.13, 0.76],\n",
       "       [0.14, 0.68],\n",
       "       [0.15, 0.7 ],\n",
       "       [0.16, 0.7 ],\n",
       "       [0.17, 0.79],\n",
       "       [0.18, 0.66],\n",
       "       [0.19, 0.77],\n",
       "       [0.2 , 0.53],\n",
       "       [0.21, 0.65],\n",
       "       [0.22, 0.78],\n",
       "       [0.23, 0.66],\n",
       "       [0.24, 0.65],\n",
       "       [0.25, 0.  ],\n",
       "       [0.26, 0.69],\n",
       "       [0.27, 0.69],\n",
       "       [0.28, 0.67],\n",
       "       [0.29, 0.7 ],\n",
       "       [0.3 , 0.8 ],\n",
       "       [0.31, 0.65],\n",
       "       [0.32, 0.68],\n",
       "       [0.33, 0.75],\n",
       "       [0.34, 0.7 ],\n",
       "       [0.35, 0.69],\n",
       "       [0.36, 0.63],\n",
       "       [0.37, 0.62],\n",
       "       [0.38, 0.65],\n",
       "       [0.39, 0.64],\n",
       "       [0.4 , 0.64],\n",
       "       [0.41, 0.86],\n",
       "       [0.42, 0.78],\n",
       "       [0.43, 0.  ],\n",
       "       [0.44, 0.77],\n",
       "       [0.45, 0.76],\n",
       "       [0.46, 0.62],\n",
       "       [0.47, 0.69],\n",
       "       [0.48, 0.66],\n",
       "       [0.49, 0.64],\n",
       "       [0.5 , 0.78],\n",
       "       [0.51, 0.58],\n",
       "       [0.52, 0.77],\n",
       "       [0.53, 0.65],\n",
       "       [0.54, 0.75],\n",
       "       [0.55, 0.63],\n",
       "       [0.56, 0.67],\n",
       "       [0.57, 0.73],\n",
       "       [0.58, 0.78],\n",
       "       [0.59, 0.82],\n",
       "       [0.6 , 0.7 ],\n",
       "       [0.61, 0.7 ],\n",
       "       [0.62, 0.73],\n",
       "       [0.63, 0.8 ],\n",
       "       [0.64, 0.4 ],\n",
       "       [0.65, 0.3 ],\n",
       "       [0.66, 0.6 ],\n",
       "       [0.67, 0.71],\n",
       "       [0.68, 0.66],\n",
       "       [0.69, 0.66],\n",
       "       [0.7 , 1.  ],\n",
       "       [0.71, 0.68],\n",
       "       [0.72, 0.61],\n",
       "       [0.73, 0.6 ],\n",
       "       [0.74, 0.7 ],\n",
       "       [0.75, 0.71],\n",
       "       [0.76, 0.75],\n",
       "       [0.77, 0.78],\n",
       "       [0.78, 0.  ],\n",
       "       [0.79, 0.78],\n",
       "       [0.8 , 0.  ],\n",
       "       [0.81, 0.79],\n",
       "       [0.82, 0.78],\n",
       "       [0.83, 0.65],\n",
       "       [0.84, 0.77],\n",
       "       [0.85, 0.78],\n",
       "       [0.86, 0.78],\n",
       "       [0.87, 0.7 ],\n",
       "       [0.88, 0.78],\n",
       "       [0.89, 0.8 ],\n",
       "       [0.9 , 0.73],\n",
       "       [0.91, 0.78],\n",
       "       [0.92, 0.  ],\n",
       "       [0.93, 0.78],\n",
       "       [0.94, 0.79],\n",
       "       [0.95, 0.8 ],\n",
       "       [0.96, 0.7 ],\n",
       "       [0.97, 0.82],\n",
       "       [0.98, 0.78],\n",
       "       [0.99, 0.63],\n",
       "       [1.  , 0.64]])"
      ]
     },
     "execution_count": 13,
     "metadata": {},
     "output_type": "execute_result"
    }
   ],
   "source": [
    "from sklearn.preprocessing import MinMaxScaler\n",
    "scaler = MinMaxScaler()\n",
    "x_scaled = scaler.fit_transform(x_array)\n",
    "x_scaled"
   ]
  },
  {
   "cell_type": "code",
   "execution_count": 14,
   "metadata": {
    "execution": {
     "iopub.execute_input": "2020-12-14T13:34:32.929072Z",
     "iopub.status.busy": "2020-12-14T13:34:32.928378Z",
     "iopub.status.idle": "2020-12-14T13:34:32.986368Z",
     "shell.execute_reply": "2020-12-14T13:34:32.985684Z"
    },
    "papermill": {
     "duration": 0.080854,
     "end_time": "2020-12-14T13:34:32.986488",
     "exception": false,
     "start_time": "2020-12-14T13:34:32.905634",
     "status": "completed"
    },
    "tags": []
   },
   "outputs": [
    {
     "data": {
      "text/plain": [
       "KMeans(n_clusters=5, random_state=123)"
      ]
     },
     "execution_count": 14,
     "metadata": {},
     "output_type": "execute_result"
    }
   ],
   "source": [
    "# untuk menghidupkan algoritma kmeans\n",
    "kmeans = KMeans(n_clusters = 5, random_state=123)\n",
    "kmeans.fit(x_scaled)"
   ]
  },
  {
   "cell_type": "code",
   "execution_count": 15,
   "metadata": {
    "execution": {
     "iopub.execute_input": "2020-12-14T13:34:33.029231Z",
     "iopub.status.busy": "2020-12-14T13:34:33.028358Z",
     "iopub.status.idle": "2020-12-14T13:34:33.032979Z",
     "shell.execute_reply": "2020-12-14T13:34:33.032359Z"
    },
    "papermill": {
     "duration": 0.027894,
     "end_time": "2020-12-14T13:34:33.033091",
     "exception": false,
     "start_time": "2020-12-14T13:34:33.005197",
     "status": "completed"
    },
    "tags": []
   },
   "outputs": [
    {
     "name": "stdout",
     "output_type": "stream",
     "text": [
      "[[0.12       0.706     ]\n",
      " [0.87826087 0.76478261]\n",
      " [0.62608696 0.68      ]\n",
      " [0.63833333 0.05      ]\n",
      " [0.37791667 0.69833333]]\n"
     ]
    }
   ],
   "source": [
    "print(kmeans.cluster_centers_)"
   ]
  },
  {
   "cell_type": "code",
   "execution_count": 16,
   "metadata": {
    "execution": {
     "iopub.execute_input": "2020-12-14T13:34:33.075756Z",
     "iopub.status.busy": "2020-12-14T13:34:33.075094Z",
     "iopub.status.idle": "2020-12-14T13:34:33.079488Z",
     "shell.execute_reply": "2020-12-14T13:34:33.079981Z"
    },
    "papermill": {
     "duration": 0.027894,
     "end_time": "2020-12-14T13:34:33.080120",
     "exception": false,
     "start_time": "2020-12-14T13:34:33.052226",
     "status": "completed"
    },
    "tags": []
   },
   "outputs": [
    {
     "name": "stdout",
     "output_type": "stream",
     "text": [
      "[0 0 0 0 0 0 0 0 0 0 0 0 0 0 0 0 0 0 0 0 0 0 0 0 0 3 4 4 4 4 4 4 4 4 4 4 4\n",
      " 4 4 4 4 4 4 3 4 4 4 4 4 4 4 2 2 2 2 2 2 2 2 2 2 2 2 2 2 3 2 2 2 2 1 2 2 2\n",
      " 2 2 1 1 3 1 3 1 1 1 1 1 1 1 1 1 1 1 3 1 1 1 1 1 1 1 1]\n"
     ]
    }
   ],
   "source": [
    "#hasil akhir label di atas\n",
    "print(kmeans.labels_)"
   ]
  },
  {
   "cell_type": "code",
   "execution_count": 17,
   "metadata": {
    "execution": {
     "iopub.execute_input": "2020-12-14T13:34:33.126834Z",
     "iopub.status.busy": "2020-12-14T13:34:33.126044Z",
     "iopub.status.idle": "2020-12-14T13:34:33.131393Z",
     "shell.execute_reply": "2020-12-14T13:34:33.130690Z"
    },
    "papermill": {
     "duration": 0.033311,
     "end_time": "2020-12-14T13:34:33.131511",
     "exception": false,
     "start_time": "2020-12-14T13:34:33.098200",
     "status": "completed"
    },
    "tags": []
   },
   "outputs": [
    {
     "data": {
      "text/html": [
       "<div>\n",
       "<style scoped>\n",
       "    .dataframe tbody tr th:only-of-type {\n",
       "        vertical-align: middle;\n",
       "    }\n",
       "\n",
       "    .dataframe tbody tr th {\n",
       "        vertical-align: top;\n",
       "    }\n",
       "\n",
       "    .dataframe thead th {\n",
       "        text-align: right;\n",
       "    }\n",
       "</style>\n",
       "<table border=\"1\" class=\"dataframe\">\n",
       "  <thead>\n",
       "    <tr style=\"text-align: right;\">\n",
       "      <th></th>\n",
       "      <th>drama_id</th>\n",
       "      <th>drama_rating</th>\n",
       "      <th>cluster</th>\n",
       "    </tr>\n",
       "  </thead>\n",
       "  <tbody>\n",
       "    <tr>\n",
       "      <th>0</th>\n",
       "      <td>2107</td>\n",
       "      <td>8.5</td>\n",
       "      <td>0</td>\n",
       "    </tr>\n",
       "    <tr>\n",
       "      <th>1</th>\n",
       "      <td>2108</td>\n",
       "      <td>7.8</td>\n",
       "      <td>0</td>\n",
       "    </tr>\n",
       "    <tr>\n",
       "      <th>2</th>\n",
       "      <td>2109</td>\n",
       "      <td>6.0</td>\n",
       "      <td>0</td>\n",
       "    </tr>\n",
       "    <tr>\n",
       "      <th>3</th>\n",
       "      <td>2110</td>\n",
       "      <td>5.9</td>\n",
       "      <td>0</td>\n",
       "    </tr>\n",
       "    <tr>\n",
       "      <th>4</th>\n",
       "      <td>2111</td>\n",
       "      <td>7.4</td>\n",
       "      <td>0</td>\n",
       "    </tr>\n",
       "  </tbody>\n",
       "</table>\n",
       "</div>"
      ],
      "text/plain": [
       "   drama_id  drama_rating  cluster\n",
       "0      2107           8.5        0\n",
       "1      2108           7.8        0\n",
       "2      2109           6.0        0\n",
       "3      2110           5.9        0\n",
       "4      2111           7.4        0"
      ]
     },
     "execution_count": 17,
     "metadata": {},
     "output_type": "execute_result"
    }
   ],
   "source": [
    "data[\"cluster\"] = kmeans.labels_\n",
    "data.head()"
   ]
  },
  {
   "cell_type": "code",
   "execution_count": 18,
   "metadata": {
    "execution": {
     "iopub.execute_input": "2020-12-14T13:34:33.185302Z",
     "iopub.status.busy": "2020-12-14T13:34:33.180689Z",
     "iopub.status.idle": "2020-12-14T13:34:33.350003Z",
     "shell.execute_reply": "2020-12-14T13:34:33.349351Z"
    },
    "papermill": {
     "duration": 0.199625,
     "end_time": "2020-12-14T13:34:33.350122",
     "exception": false,
     "start_time": "2020-12-14T13:34:33.150497",
     "status": "completed"
    },
    "tags": []
   },
   "outputs": [
    {
     "data": {
      "image/png": "[encoded data removed]",
      "text/plain": [
       "<Figure size 432x288 with 1 Axes>"
      ]
     },
     "metadata": {
      "needs_background": "light"
     },
     "output_type": "display_data"
    }
   ],
   "source": [
    "fig, ax = plt.subplots()\n",
    "sct = ax.scatter(x_scaled[:,1], x_scaled[:,0], s = 50,\n",
    "c = data.cluster, marker = \"o\", alpha = 0.5)\n",
    "centers = kmeans.cluster_centers_\n",
    "ax.scatter(centers[:,1], centers[:,0], c='blue', s=100, alpha=0.5);plt.title(\"Hasil Clustering Menggunakan K-Means\")\n",
    "plt.xlabel(\"Scaled Drama ID\")\n",
    "plt.ylabel(\"Scaled Drama Rating\")\n",
    "plt.show()"
   ]
  }
 ],
 "metadata": {
  "kernelspec": {
   "display_name": "Python 3",
   "language": "python",
   "name": "python3"
  },
  "language_info": {
   "codemirror_mode": {
    "name": "ipython",
    "version": 3
   },
   "file_extension": ".py",
   "mimetype": "text/x-python",
   "name": "python",
   "nbconvert_exporter": "python",
   "pygments_lexer": "ipython3",
   "version": "3.7.6"
  },
  "papermill": {
   "duration": 142.674268,
   "end_time": "2020-12-14T13:34:33.487765",
   "environment_variables": {},
   "exception": null,
   "input_path": "__notebook__.ipynb",
   "output_path": "__notebook__.ipynb",
   "parameters": {},
   "start_time": "2020-12-14T13:32:10.813497",
   "version": "2.1.0"
  }
 },
 "nbformat": 4,
 "nbformat_minor": 4
}
